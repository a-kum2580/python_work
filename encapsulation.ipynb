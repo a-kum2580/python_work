{
 "cells": [
  {
   "cell_type": "markdown",
   "metadata": {},
   "source": [
    "## Encapsulation"
   ]
  },
  {
   "cell_type": "markdown",
   "metadata": {},
   "source": [
    "####  Private Attributes with Getter and Setter Methods"
   ]
  },
  {
   "cell_type": "code",
   "execution_count": 1,
   "metadata": {},
   "outputs": [
    {
     "name": "stdout",
     "output_type": "stream",
     "text": [
      "Name: Alice\n",
      "Age: 30\n",
      "Updated Name: Bob\n",
      "Updated Age: 25\n"
     ]
    }
   ],
   "source": [
    "class Person:\n",
    "    \"\"\"Class representing a person.\"\"\"\n",
    "\n",
    "    def __init__(self, name: str, age: int) -> None:\n",
    "        self.__name = name\n",
    "        self.__age = age\n",
    "\n",
    "    def get_name(self) -> str:\n",
    "        \"\"\"Get the name of the person.\"\"\"\n",
    "        return self.__name\n",
    "\n",
    "    def set_name(self, name: str) -> None:\n",
    "        \"\"\"Set the name of the person.\"\"\"\n",
    "        self.__name = name\n",
    "\n",
    "    def get_age(self) -> int:\n",
    "        \"\"\"Get the age of the person.\"\"\"\n",
    "        return self.__age\n",
    "\n",
    "    def set_age(self, age: int) -> None:\n",
    "        \"\"\"Set the age of the person.\"\"\"\n",
    "        self.__age = age\n",
    "\n",
    "\n",
    "person = Person(\"Alice\", 30)\n",
    "print(\"Name:\", person.get_name())\n",
    "print(\"Age:\", person.get_age())\n",
    "\n",
    "person.set_name(\"Bob\")\n",
    "person.set_age(25)\n",
    "print(\"Updated Name:\", person.get_name())\n",
    "print(\"Updated Age:\", person.get_age())"
   ]
  },
  {
   "cell_type": "markdown",
   "metadata": {},
   "source": [
    "#### Using Property Decorators"
   ]
  },
  {
   "cell_type": "code",
   "execution_count": 2,
   "metadata": {},
   "outputs": [
    {
     "name": "stdout",
     "output_type": "stream",
     "text": [
      "Make: Toyota\n",
      "Model: Camry\n",
      "Updated Make: Honda\n",
      "Updated Model: Accord\n"
     ]
    }
   ],
   "source": [
    "class Car:\n",
    "    \"\"\"Class representing a car.\"\"\"\n",
    "\n",
    "    def __init__(self, make: str, model: str) -> None:\n",
    "        self.__make = make\n",
    "        self.__model = model\n",
    "\n",
    "    @property\n",
    "    def make(self) -> str:\n",
    "        \"\"\"Get the make of the car.\"\"\"\n",
    "        return self.__make\n",
    "\n",
    "    @make.setter\n",
    "    def make(self, make: str) -> None:\n",
    "        \"\"\"Set the make of the car.\"\"\"\n",
    "        self.__make = make\n",
    "\n",
    "    @property\n",
    "    def model(self) -> str:\n",
    "        \"\"\"Get the model of the car.\"\"\"\n",
    "        return self.__model\n",
    "\n",
    "    @model.setter\n",
    "    def model(self, model: str) -> None:\n",
    "        \"\"\"Set the model of the car.\"\"\"\n",
    "        self.__model = model\n",
    "\n",
    "\n",
    "my_car = Car(\"Toyota\", \"Camry\")\n",
    "print(\"Make:\", my_car.make)\n",
    "print(\"Model:\", my_car.model)\n",
    "\n",
    "my_car.make = \"Honda\"\n",
    "my_car.model = \"Accord\"\n",
    "print(\"Updated Make:\", my_car.make)\n",
    "print(\"Updated Model:\", my_car.model)"
   ]
  },
  {
   "cell_type": "markdown",
   "metadata": {},
   "source": [
    "#### Encapsulation with Private Methods"
   ]
  },
  {
   "cell_type": "code",
   "execution_count": 3,
   "metadata": {},
   "outputs": [
    {
     "name": "stdout",
     "output_type": "stream",
     "text": [
      "Result after addition: 15\n",
      "Result after subtraction: 10\n"
     ]
    }
   ],
   "source": [
    "class Calculator:\n",
    "    \"\"\"Class representing a simple calculator.\"\"\"\n",
    "\n",
    "    def __init__(self) -> None:\n",
    "        self.__result = 0\n",
    "\n",
    "    def __add(self, num: int) -> None:\n",
    "        \"\"\"Private method to add a number to the result.\"\"\"\n",
    "        self.__result += num\n",
    "\n",
    "    def __subtract(self, num: int) -> None:\n",
    "        \"\"\"Private method to subtract a number from the result.\"\"\"\n",
    "        self.__result -= num\n",
    "\n",
    "    def add_numbers(self, num1: int, num2: int) -> None:\n",
    "        \"\"\"Public method to add two numbers.\"\"\"\n",
    "        self.__add(num1)\n",
    "        self.__add(num2)\n",
    "\n",
    "    def subtract_numbers(self, num1: int, num2: int) -> None:\n",
    "        \"\"\"Public method to subtract two numbers.\"\"\"\n",
    "        self.__subtract(num1)\n",
    "        self.__subtract(num2)\n",
    "\n",
    "    def get_result(self) -> int:\n",
    "        \"\"\"Get the current result.\"\"\"\n",
    "        return self.__result\n",
    "\n",
    "\n",
    "calculator = Calculator()\n",
    "calculator.add_numbers(10, 5)\n",
    "print(\"Result after addition:\", calculator.get_result())\n",
    "\n",
    "calculator.subtract_numbers(3, 2)\n",
    "print(\"Result after subtraction:\", calculator.get_result())"
   ]
  },
  {
   "cell_type": "markdown",
   "metadata": {},
   "source": [
    "#### Encapsulation with Class Composition"
   ]
  },
  {
   "cell_type": "code",
   "execution_count": 4,
   "metadata": {},
   "outputs": [
    {
     "name": "stdout",
     "output_type": "stream",
     "text": [
      "Engine started.\n"
     ]
    }
   ],
   "source": [
    "class Engine:\n",
    "    \"\"\"Class representing an engine.\"\"\"\n",
    "\n",
    "    def start(self) -> None:\n",
    "        \"\"\"Start the engine.\"\"\"\n",
    "        print(\"Engine started.\")\n",
    "\n",
    "\n",
    "class Car:\n",
    "    \"\"\"Class representing a car.\"\"\"\n",
    "\n",
    "    def __init__(self) -> None:\n",
    "        self.__engine = Engine()\n",
    "\n",
    "    def start_engine(self) -> None:\n",
    "        \"\"\"Start the car's engine.\"\"\"\n",
    "        self.__engine.start()\n",
    "\n",
    "\n",
    "my_car = Car()\n",
    "my_car.start_engine()"
   ]
  }
 ],
 "metadata": {
  "kernelspec": {
   "display_name": "py-12",
   "language": "python",
   "name": "python3"
  },
  "language_info": {
   "codemirror_mode": {
    "name": "ipython",
    "version": 3
   },
   "file_extension": ".py",
   "mimetype": "text/x-python",
   "name": "python",
   "nbconvert_exporter": "python",
   "pygments_lexer": "ipython3",
   "version": "3.12.2"
  }
 },
 "nbformat": 4,
 "nbformat_minor": 2
}
